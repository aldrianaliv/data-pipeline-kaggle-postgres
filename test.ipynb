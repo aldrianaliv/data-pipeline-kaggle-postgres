{
 "cells": [
  {
   "cell_type": "code",
   "execution_count": 41,
   "id": "85abaed7",
   "metadata": {},
   "outputs": [],
   "source": [
    "import os"
   ]
  },
  {
   "cell_type": "code",
   "execution_count": null,
   "id": "9f9e8d04",
   "metadata": {},
   "outputs": [
    {
     "name": "stdout",
     "output_type": "stream",
     "text": [
      "Warning: Looks like you're using an outdated `kagglehub` version (installed: 0.3.12), please consider upgrading to the latest version (0.3.13).\n"
     ]
    }
   ],
   "source": [
    "# Getting the dataset from Kaggle\n",
    "import kagglehub\n",
    "from kagglehub import KaggleDatasetAdapter\n",
    "\n",
    "file_path = \"dags\\\\data\\\\ncr-ride_bookings.csv\"\n",
    "\n",
    "df = kagglehub.dataset_load(\n",
    "        KaggleDatasetAdapter.PANDAS, \n",
    "        \"yashdevladdha/uber-ride-analytics-dashboard\",\n",
    "        \"ncr_ride_bookings.csv\"\n",
    "    )\n",
    "df.to_csv(file_path, index=False)"
   ]
  },
  {
   "cell_type": "code",
   "execution_count": 15,
   "id": "4d32a0a8",
   "metadata": {},
   "outputs": [
    {
     "data": {
      "text/plain": [
       "Index(['Date', 'Time', 'Booking ID', 'Booking Status', 'Customer ID',\n",
       "       'Vehicle Type', 'Pickup Location', 'Drop Location', 'Avg VTAT',\n",
       "       'Avg CTAT', 'Cancelled Rides by Customer',\n",
       "       'Reason for cancelling by Customer', 'Cancelled Rides by Driver',\n",
       "       'Driver Cancellation Reason', 'Incomplete Rides',\n",
       "       'Incomplete Rides Reason', 'Booking Value', 'Ride Distance',\n",
       "       'Driver Ratings', 'Customer Rating', 'Payment Method'],\n",
       "      dtype='object')"
      ]
     },
     "execution_count": 15,
     "metadata": {},
     "output_type": "execute_result"
    }
   ],
   "source": [
    "df.columns"
   ]
  },
  {
   "cell_type": "code",
   "execution_count": null,
   "id": "d5998394",
   "metadata": {},
   "outputs": [
    {
     "name": "stdout",
     "output_type": "stream",
     "text": [
      "File exists: True\n",
      "Number of columns in CSV: 21\n"
     ]
    }
   ],
   "source": [
    "# Check if the file exists and print the number of columns\n",
    "print(\"File exists:\", os.path.isfile(file_path))\n",
    "import pandas as pd\n",
    "\n",
    "df_csv = pd.read_csv(file_path)\n",
    "print(\"Number of columns in CSV:\", df_csv.shape[1])"
   ]
  },
  {
   "cell_type": "code",
   "execution_count": 51,
   "id": "5022a9bf",
   "metadata": {},
   "outputs": [
    {
     "name": "stdout",
     "output_type": "stream",
     "text": [
      "file_path is not empty: dags\\data\\ncr-ride_bookings.csv\n"
     ]
    }
   ],
   "source": [
    "# Check if the file_path variable is empty or not\n",
    "if file_path and file_path.strip():\n",
    "    print(\"file_path is not empty:\", file_path)\n",
    "else:\n",
    "    print(\"file_path is empty!\")"
   ]
  },
  {
   "cell_type": "markdown",
   "id": "bd6525c9",
   "metadata": {},
   "source": [
    "- Create Schemas on postgres first (STG)\n",
    "- Then CREATE table STG.uber_ride (just STRING all data type as it is for staging)\n",
    "- Input the data from the csv/df file into the STG.uber_ride\n",
    "- Then CREATE schemas for SOR \n",
    "- Create table SOR.uber_ride with the right datatypes\n"
   ]
  },
  {
   "cell_type": "code",
   "execution_count": null,
   "id": "b93c8d0c",
   "metadata": {},
   "outputs": [],
   "source": [
    "\"\"\"\"\n",
    "CREATE TABLE IF NOT EXISTS STG.uber_data (\n"
   ]
  }
 ],
 "metadata": {
  "kernelspec": {
   "display_name": "Python 3",
   "language": "python",
   "name": "python3"
  },
  "language_info": {
   "codemirror_mode": {
    "name": "ipython",
    "version": 3
   },
   "file_extension": ".py",
   "mimetype": "text/x-python",
   "name": "python",
   "nbconvert_exporter": "python",
   "pygments_lexer": "ipython3",
   "version": "3.9.13"
  }
 },
 "nbformat": 4,
 "nbformat_minor": 5
}
